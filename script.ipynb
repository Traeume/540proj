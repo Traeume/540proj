{
 "cells": [
  {
   "cell_type": "code",
   "execution_count": 6,
   "metadata": {
    "collapsed": false
   },
   "outputs": [
    {
     "data": {
      "text/plain": [
       "read (generic function with 1 method)"
      ]
     },
     "execution_count": 6,
     "metadata": {},
     "output_type": "execute_result"
    }
   ],
   "source": [
    "include(\"code/readData.jl\")"
   ]
  },
  {
   "cell_type": "code",
   "execution_count": 7,
   "metadata": {
    "collapsed": false
   },
   "outputs": [
    {
     "data": {
      "text/plain": [
       "5400×102 SparseMatrixCSC{Float64,Int64} with 17337 stored entries:\n",
       "  [1   ,    1]  =  1.0\n",
       "  [2   ,    1]  =  1.0\n",
       "  [18  ,    1]  =  1.0\n",
       "  [23  ,    1]  =  1.0\n",
       "  [49  ,    1]  =  1.0\n",
       "  [66  ,    1]  =  1.0\n",
       "  [94  ,    1]  =  1.0\n",
       "  [96  ,    1]  =  1.0\n",
       "  [98  ,    1]  =  1.0\n",
       "  [109 ,    1]  =  1.0\n",
       "  ⋮\n",
       "  [92  ,   97]  =  1.0\n",
       "  [2732,   97]  =  1.0\n",
       "  [2752,   97]  =  1.0\n",
       "  [93  ,   98]  =  1.0\n",
       "  [2795,   98]  =  1.0\n",
       "  [94  ,   99]  =  1.0\n",
       "  [2776,   99]  =  1.0\n",
       "  [4287,   99]  =  1.0\n",
       "  [95  ,  100]  =  1.0\n",
       "  [2796,  100]  =  1.0\n",
       "  [2798,  102]  =  1.0"
      ]
     },
     "execution_count": 7,
     "metadata": {},
     "output_type": "execute_result"
    }
   ],
   "source": [
    "X, Y = read(\"data/rcv1/train_remap.txt\");\n",
    "K = size(Y, 1)\n",
    "adj_mat = read_cat_hier(\"data/rcv1/hr_remap.txt\", K)\n",
    "Y = Y'"
   ]
  },
  {
   "cell_type": "code",
   "execution_count": 8,
   "metadata": {
    "collapsed": false
   },
   "outputs": [
    {
     "name": "stdout",
     "output_type": "stream",
     "text": [
      "(5400, 47235)\n",
      "(5400, 102)\n"
     ]
    },
    {
     "data": {
      "text/plain": [
       "102"
      ]
     },
     "execution_count": 8,
     "metadata": {},
     "output_type": "execute_result"
    }
   ],
   "source": [
    "println(size(X))\n",
    "println(size(Y))\n",
    "N, D = size(X)\n",
    "K = size(Y,2)"
   ]
  },
  {
   "cell_type": "code",
   "execution_count": 9,
   "metadata": {
    "collapsed": false
   },
   "outputs": [
    {
     "name": "stdout",
     "output_type": "stream",
     "text": [
      "[1 0 0; 0 0 1; 0 1 0; 0 1 0]\n",
      "[1]\n",
      "[3, 4]\n",
      "[2]\n"
     ]
    }
   ],
   "source": [
    "A = sparse([1;2;3;4],[1;3;2;2],[1;1;1;1])\n",
    "println(full(A))\n",
    "rows = rowvals(A)\n",
    "for i in 1:size(A,2)\n",
    "    tmp = nzrange(A, i)\n",
    "    println(rows[tmp])\n",
    "end"
   ]
  },
  {
   "cell_type": "code",
   "execution_count": 13,
   "metadata": {
    "collapsed": false
   },
   "outputs": [
    {
     "data": {
      "text/plain": [
       "obj (generic function with 1 method)"
      ]
     },
     "execution_count": 13,
     "metadata": {},
     "output_type": "execute_result"
    }
   ],
   "source": [
    "include(\"code/misc.jl\")"
   ]
  },
  {
   "cell_type": "code",
   "execution_count": 14,
   "metadata": {
    "collapsed": false
   },
   "outputs": [
    {
     "data": {
      "text/plain": [
       "550800.0"
      ]
     },
     "execution_count": 14,
     "metadata": {},
     "output_type": "execute_result"
    }
   ],
   "source": [
    "W = zeros(D, K)\n",
    "C = 1\n",
    "lambda = 0.1\n",
    "obj(X,Y,W,adj_mat,C,lambda)"
   ]
  },
  {
   "cell_type": "code",
   "execution_count": 16,
   "metadata": {
    "collapsed": false
   },
   "outputs": [
    {
     "data": {
      "text/plain": [
       "4×1 Array{Int64,2}:\n",
       " 1\n",
       " 3\n",
       " 2\n",
       " 4"
      ]
     },
     "execution_count": 16,
     "metadata": {},
     "output_type": "execute_result"
    }
   ],
   "source": [
    "reshape([1 2;3 4], 4, 1)"
   ]
  },
  {
   "cell_type": "code",
   "execution_count": null,
   "metadata": {
    "collapsed": true
   },
   "outputs": [],
   "source": []
  }
 ],
 "metadata": {
  "kernelspec": {
   "display_name": "Julia 0.6.2",
   "language": "julia",
   "name": "julia-0.6"
  },
  "language_info": {
   "file_extension": ".jl",
   "mimetype": "application/julia",
   "name": "julia",
   "version": "0.6.2"
  }
 },
 "nbformat": 4,
 "nbformat_minor": 1
}
