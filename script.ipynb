{
 "cells": [
  {
   "cell_type": "code",
   "execution_count": 42,
   "metadata": {
    "collapsed": false
   },
   "outputs": [
    {
     "data": {
      "text/plain": [
       "read (generic function with 1 method)"
      ]
     },
     "execution_count": 42,
     "metadata": {},
     "output_type": "execute_result"
    }
   ],
   "source": [
    "include(\"code/readData.jl\")"
   ]
  },
  {
   "cell_type": "code",
   "execution_count": 43,
   "metadata": {
    "collapsed": false
   },
   "outputs": [
    {
     "data": {
      "text/plain": [
       "2807×329 SparseMatrixCSC{Float64,Int64} with 2807 stored entries:\n",
       "  [1   ,    1]  =  1.0\n",
       "  [2   ,    2]  =  1.0\n",
       "  [400 ,    2]  =  1.0\n",
       "  [401 ,    2]  =  1.0\n",
       "  [1341,    2]  =  1.0\n",
       "  [1342,    2]  =  1.0\n",
       "  [2239,    2]  =  1.0\n",
       "  [3   ,    3]  =  1.0\n",
       "  [4   ,    4]  =  1.0\n",
       "  [15  ,    4]  =  1.0\n",
       "  ⋮\n",
       "  [2456,  323]  =  1.0\n",
       "  [2457,  323]  =  1.0\n",
       "  [2462,  324]  =  1.0\n",
       "  [2463,  324]  =  1.0\n",
       "  [2464,  324]  =  1.0\n",
       "  [2473,  325]  =  1.0\n",
       "  [2506,  326]  =  1.0\n",
       "  [2510,  327]  =  1.0\n",
       "  [2511,  327]  =  1.0\n",
       "  [2512,  328]  =  1.0\n",
       "  [2529,  329]  =  1.0"
      ]
     },
     "execution_count": 43,
     "metadata": {},
     "output_type": "execute_result"
    }
   ],
   "source": [
    "X, Y = read(\"data/diatoms/train_remap.txt\");\n",
    "K = size(Y, 1)\n",
    "adj_mat = read_cat_hier(\"data/diatoms/hr_remap.txt\", K)\n",
    "Y = Y'"
   ]
  },
  {
   "cell_type": "code",
   "execution_count": 45,
   "metadata": {
    "collapsed": false
   },
   "outputs": [
    {
     "name": "stdout",
     "output_type": "stream",
     "text": [
      "(2807, 371)\n",
      "(2807, 329)\n"
     ]
    },
    {
     "data": {
      "text/plain": [
       "329"
      ]
     },
     "execution_count": 45,
     "metadata": {},
     "output_type": "execute_result"
    }
   ],
   "source": [
    "println(size(X))\n",
    "println(size(Y))\n",
    "N, D = size(X)\n",
    "X = [ones(N) X]\n",
    "K = size(Y,2)"
   ]
  },
  {
   "cell_type": "code",
   "execution_count": 47,
   "metadata": {
    "collapsed": false
   },
   "outputs": [
    {
     "data": {
      "text/plain": [
       "SparseMatrixCSC{Float64,Int64}"
      ]
     },
     "execution_count": 47,
     "metadata": {},
     "output_type": "execute_result"
    }
   ],
   "source": [
    "typeof(X)"
   ]
  },
  {
   "cell_type": "code",
   "execution_count": 40,
   "metadata": {
    "collapsed": false
   },
   "outputs": [
    {
     "data": {
      "text/plain": [
       "([3], [1])"
      ]
     },
     "execution_count": 40,
     "metadata": {},
     "output_type": "execute_result"
    }
   ],
   "source": [
    "findnz(A1)"
   ]
  },
  {
   "cell_type": "code",
   "execution_count": 4,
   "metadata": {
    "collapsed": false
   },
   "outputs": [
    {
     "data": {
      "text/plain": [
       "linesearch (generic function with 4 methods)"
      ]
     },
     "execution_count": 4,
     "metadata": {},
     "output_type": "execute_result"
    }
   ],
   "source": [
    "include(\"code/misc.jl\")"
   ]
  },
  {
   "cell_type": "code",
   "execution_count": 5,
   "metadata": {
    "collapsed": false
   },
   "outputs": [
    {
     "data": {
      "text/plain": [
       "550800.0"
      ]
     },
     "execution_count": 5,
     "metadata": {},
     "output_type": "execute_result"
    }
   ],
   "source": [
    "W = zeros(D, K)\n",
    "C = 1\n",
    "lambda = 0.1\n",
    "obj(X,Y,W,adj_mat,C,lambda)"
   ]
  },
  {
   "cell_type": "code",
   "execution_count": 14,
   "metadata": {
    "collapsed": false
   },
   "outputs": [
    {
     "name": "stdout",
     "output_type": "stream",
     "text": [
      "get gradient complete\n",
      "obj complete\n",
      "prox complete\n",
      "prox complete\n",
      "prox complete\n",
      "prox complete\n",
      "prox complete\n",
      "prox complete\n",
      "prox complete\n",
      "prox complete\n",
      "prox complete\n",
      "prox complete\n",
      "stepsize: 0.001953125\n",
      "iter 1 finished!\n",
      "get gradient complete\n",
      "obj complete\n",
      "prox complete\n",
      "prox complete\n",
      "prox complete\n",
      "prox complete\n",
      "prox complete\n",
      "prox complete\n",
      "prox complete\n",
      "prox complete\n",
      "prox complete\n",
      "prox complete\n",
      "stepsize: 0.001953125\n",
      "iter 2 finished!\n",
      "get gradient complete\n",
      "obj complete\n",
      "prox complete\n",
      "prox complete\n",
      "prox complete\n",
      "prox complete\n",
      "prox complete\n"
     ]
    },
    {
     "ename": "LoadError",
     "evalue": "\u001b[91mInterruptException:\u001b[39m",
     "output_type": "error",
     "traceback": [
      "\u001b[91mInterruptException:\u001b[39m",
      "",
      "Stacktrace:",
      " [1] \u001b[1mbroadcast_t\u001b[22m\u001b[22m at \u001b[1m./broadcast.jl:268\u001b[22m\u001b[22m [inlined]",
      " [2] \u001b[1mbroadcast_c\u001b[22m\u001b[22m at \u001b[1m./broadcast.jl:316\u001b[22m\u001b[22m [inlined]",
      " [3] \u001b[1mbroadcast\u001b[22m\u001b[22m at \u001b[1m./broadcast.jl:455\u001b[22m\u001b[22m [inlined]",
      " [4] \u001b[1m-\u001b[22m\u001b[22m\u001b[1m(\u001b[22m\u001b[22m::Array{Float64,1}, ::Array{Float64,1}\u001b[1m)\u001b[22m\u001b[22m at \u001b[1m./arraymath.jl:39\u001b[22m\u001b[22m",
      " [5] \u001b[1mobj\u001b[22m\u001b[22m\u001b[1m(\u001b[22m\u001b[22m::SparseMatrixCSC{Float64,Int64}, ::SparseMatrixCSC{Float64,Int64}, ::Array{Float64,2}, ::SparseMatrixCSC{Float64,Int64}, ::Int64, ::Float64\u001b[1m)\u001b[22m\u001b[22m at \u001b[1m/Users/fangh/academic/540proj/code/misc.jl:30\u001b[22m\u001b[22m",
      " [6] \u001b[1mproximal_gradient\u001b[22m\u001b[22m\u001b[1m(\u001b[22m\u001b[22m::SparseMatrixCSC{Float64,Int64}, ::SparseMatrixCSC{Float64,Int64}, ::SparseMatrixCSC{Float64,Int64}, ::Int64, ::Float64, ::Float64, ::Int64, ::Int64\u001b[1m)\u001b[22m\u001b[22m at \u001b[1m/Users/fangh/academic/540proj/code/prox_newton.jl:181\u001b[22m\u001b[22m",
      " [7] \u001b[1mproximal_gradient\u001b[22m\u001b[22m\u001b[1m(\u001b[22m\u001b[22m::SparseMatrixCSC{Float64,Int64}, ::SparseMatrixCSC{Float64,Int64}, ::SparseMatrixCSC{Float64,Int64}, ::Int64, ::Float64\u001b[1m)\u001b[22m\u001b[22m at \u001b[1m/Users/fangh/academic/540proj/code/prox_newton.jl:143\u001b[22m\u001b[22m",
      " [8] \u001b[1minclude_string\u001b[22m\u001b[22m\u001b[1m(\u001b[22m\u001b[22m::String, ::String\u001b[1m)\u001b[22m\u001b[22m at \u001b[1m./loading.jl:522\u001b[22m\u001b[22m"
     ]
    }
   ],
   "source": [
    "include(\"code/prox_newton.jl\")\n",
    "A = adj_mat\n",
    "W_res = proximal_gradient(X, Y, A, C, lambda)"
   ]
  },
  {
   "cell_type": "code",
   "execution_count": 28,
   "metadata": {
    "collapsed": false
   },
   "outputs": [
    {
     "data": {
      "text/plain": [
       "1.0"
      ]
     },
     "execution_count": 28,
     "metadata": {},
     "output_type": "execute_result"
    }
   ],
   "source": [
    "sum(Y[:,3])"
   ]
  },
  {
   "cell_type": "code",
   "execution_count": 29,
   "metadata": {
    "collapsed": false
   },
   "outputs": [
    {
     "data": {
      "text/plain": [
       "5×5 Array{Float64,2}:\n",
       " 1.0  0.0  0.0  0.0  0.0\n",
       " 0.0  1.0  0.0  0.0  0.0\n",
       " 0.0  0.0  1.0  0.0  0.0\n",
       " 0.0  0.0  0.0  1.0  0.0\n",
       " 0.0  0.0  0.0  0.0  1.0"
      ]
     },
     "execution_count": 29,
     "metadata": {},
     "output_type": "execute_result"
    }
   ],
   "source": [
    "eye(5)"
   ]
  },
  {
   "cell_type": "code",
   "execution_count": 60,
   "metadata": {
    "collapsed": false
   },
   "outputs": [
    {
     "name": "stdout",
     "output_type": "stream",
     "text": [
      "size of active set: 121223\n",
      "start coordinate descent!\n",
      "dot: -1826429.074889\n",
      "hessian part: 913199.190383\n",
      "approx1: 0.000000, approx2: -913074.599579\n",
      "obj_old: 923503.000000, obj_new: 10214.566351 \n",
      "size of active set: 13549\n",
      "start coordinate descent!\n",
      "dot: -598.179784\n",
      "hessian part: 13360.336936\n",
      "approx1: 155.284926, approx2: 13102.914322\n",
      "obj_old: 10214.566351, obj_new: 21853.957232 \n",
      "size of active set: 2687\n",
      "start coordinate descent!\n",
      "dot: 10598.225646\n",
      "hessian part: 20120.724748\n",
      "approx1: 340.757170, approx2: 31182.105119\n",
      "obj_old: 21853.957232, obj_new: 55890.684421 \n"
     ]
    },
    {
     "ename": "LoadError",
     "evalue": "\u001b[91mInterruptException:\u001b[39m",
     "output_type": "error",
     "traceback": [
      "\u001b[91mInterruptException:\u001b[39m",
      "",
      "Stacktrace:",
      " [1] \u001b[1mgetindex\u001b[22m\u001b[22m at \u001b[1m./array.jl:562\u001b[22m\u001b[22m [inlined]",
      " [2] \u001b[1mgetindex\u001b[22m\u001b[22m\u001b[1m(\u001b[22m\u001b[22m::SparseMatrixCSC{Float64,Int64}, ::Colon, ::Int64\u001b[1m)\u001b[22m\u001b[22m at \u001b[1m./sparse/sparsevector.jl:462\u001b[22m\u001b[22m",
      " [3] \u001b[1mget_grad\u001b[22m\u001b[22m\u001b[1m(\u001b[22m\u001b[22m::SparseMatrixCSC{Float64,Int64}, ::SparseMatrixCSC{Float64,Int64}, ::Array{Float64,2}, ::SparseMatrixCSC{Float64,Int64}, ::Int64, ::Float64\u001b[1m)\u001b[22m\u001b[22m at \u001b[1m/Users/fangh/academic/540proj/code/misc.jl:52\u001b[22m\u001b[22m",
      " [4] \u001b[1mproximal_newton\u001b[22m\u001b[22m\u001b[1m(\u001b[22m\u001b[22m::SparseMatrixCSC{Float64,Int64}, ::SparseMatrixCSC{Float64,Int64}, ::SparseMatrixCSC{Float64,Int64}, ::Int64, ::Float64, ::Float64, ::Float64, ::Int64\u001b[1m)\u001b[22m\u001b[22m at \u001b[1m/Users/fangh/academic/540proj/code/prox_newton.jl:175\u001b[22m\u001b[22m",
      " [5] \u001b[1mproximal_newton\u001b[22m\u001b[22m\u001b[1m(\u001b[22m\u001b[22m::SparseMatrixCSC{Float64,Int64}, ::SparseMatrixCSC{Float64,Int64}, ::SparseMatrixCSC{Float64,Int64}, ::Int64, ::Float64\u001b[1m)\u001b[22m\u001b[22m at \u001b[1m/Users/fangh/academic/540proj/code/prox_newton.jl:122\u001b[22m\u001b[22m",
      " [6] \u001b[1minclude_string\u001b[22m\u001b[22m\u001b[1m(\u001b[22m\u001b[22m::String, ::String\u001b[1m)\u001b[22m\u001b[22m at \u001b[1m./loading.jl:522\u001b[22m\u001b[22m"
     ]
    }
   ],
   "source": [
    "include(\"code/prox_newton.jl\")\n",
    "A = adj_mat\n",
    "W_res = proximal_newton(X, Y, A, C, lambda)"
   ]
  },
  {
   "cell_type": "code",
   "execution_count": 36,
   "metadata": {
    "collapsed": false
   },
   "outputs": [
    {
     "name": "stdout",
     "output_type": "stream",
     "text": [
      "obj: 11890398004.628067\n"
     ]
    },
    {
     "ename": "LoadError",
     "evalue": "\u001b[91mDimensionMismatch(\"tried to assign 371×329 array to 371×1 destination\")\u001b[39m",
     "output_type": "error",
     "traceback": [
      "\u001b[91mDimensionMismatch(\"tried to assign 371×329 array to 371×1 destination\")\u001b[39m",
      "",
      "Stacktrace:",
      " [1] \u001b[1mthrow_setindex_mismatch\u001b[22m\u001b[22m\u001b[1m(\u001b[22m\u001b[22m::Array{Float64,2}, ::Tuple{Int64,Int64}\u001b[1m)\u001b[22m\u001b[22m at \u001b[1m./indices.jl:94\u001b[22m\u001b[22m",
      " [2] \u001b[1msetindex_shape_check\u001b[22m\u001b[22m\u001b[1m(\u001b[22m\u001b[22m::Array{Float64,2}, ::Int64, ::Int64\u001b[1m)\u001b[22m\u001b[22m at \u001b[1m./indices.jl:151\u001b[22m\u001b[22m",
      " [3] \u001b[1mmacro expansion\u001b[22m\u001b[22m at \u001b[1m./multidimensional.jl:554\u001b[22m\u001b[22m [inlined]",
      " [4] \u001b[1m_unsafe_setindex!\u001b[22m\u001b[22m\u001b[1m(\u001b[22m\u001b[22m::IndexLinear, ::Array{Float64,2}, ::Array{Float64,2}, ::Base.Slice{Base.OneTo{Int64}}, ::Int64\u001b[1m)\u001b[22m\u001b[22m at \u001b[1m./multidimensional.jl:549\u001b[22m\u001b[22m",
      " [5] \u001b[1mmacro expansion\u001b[22m\u001b[22m at \u001b[1m./multidimensional.jl:541\u001b[22m\u001b[22m [inlined]",
      " [6] \u001b[1m_setindex!\u001b[22m\u001b[22m at \u001b[1m./multidimensional.jl:537\u001b[22m\u001b[22m [inlined]",
      " [7] \u001b[1msetindex!\u001b[22m\u001b[22m at \u001b[1m./abstractarray.jl:968\u001b[22m\u001b[22m [inlined]",
      " [8] \u001b[1mnewton_debug\u001b[22m\u001b[22m\u001b[1m(\u001b[22m\u001b[22m::SparseMatrixCSC{Float64,Int64}, ::SparseMatrixCSC{Float64,Int64}, ::Int64, ::Int64\u001b[1m)\u001b[22m\u001b[22m at \u001b[1m/Users/fangh/academic/540proj/code/prox_newton.jl:73\u001b[22m\u001b[22m",
      " [9] \u001b[1mnewton_debug\u001b[22m\u001b[22m\u001b[1m(\u001b[22m\u001b[22m::SparseMatrixCSC{Float64,Int64}, ::SparseMatrixCSC{Float64,Int64}, ::Int64\u001b[1m)\u001b[22m\u001b[22m at \u001b[1m/Users/fangh/academic/540proj/code/prox_newton.jl:48\u001b[22m\u001b[22m",
      " [10] \u001b[1minclude_string\u001b[22m\u001b[22m\u001b[1m(\u001b[22m\u001b[22m::String, ::String\u001b[1m)\u001b[22m\u001b[22m at \u001b[1m./loading.jl:522\u001b[22m\u001b[22m"
     ]
    }
   ],
   "source": [
    "include(\"code/prox_newton.jl\")\n",
    "W_res = newton_debug(X, Y, C)"
   ]
  },
  {
   "cell_type": "code",
   "execution_count": null,
   "metadata": {
    "collapsed": true
   },
   "outputs": [],
   "source": []
  }
 ],
 "metadata": {
  "kernelspec": {
   "display_name": "Julia 0.6.2",
   "language": "julia",
   "name": "julia-0.6"
  },
  "language_info": {
   "file_extension": ".jl",
   "mimetype": "application/julia",
   "name": "julia",
   "version": "0.6.2"
  }
 },
 "nbformat": 4,
 "nbformat_minor": 1
}
