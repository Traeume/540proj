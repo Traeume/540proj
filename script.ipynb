{
 "cells": [
  {
   "cell_type": "code",
   "execution_count": 17,
   "metadata": {
    "collapsed": false
   },
   "outputs": [
    {
     "data": {
      "text/plain": [
       "read (generic function with 1 method)"
      ]
     },
     "execution_count": 17,
     "metadata": {},
     "output_type": "execute_result"
    }
   ],
   "source": [
    "include(\"code/readData.jl\")"
   ]
  },
  {
   "cell_type": "code",
   "execution_count": 18,
   "metadata": {
    "collapsed": false
   },
   "outputs": [
    {
     "data": {
      "text/plain": [
       "5400×102 SparseMatrixCSC{Float64,Int64} with 17337 stored entries:\n",
       "  [1   ,    1]  =  1.0\n",
       "  [2   ,    1]  =  1.0\n",
       "  [18  ,    1]  =  1.0\n",
       "  [23  ,    1]  =  1.0\n",
       "  [49  ,    1]  =  1.0\n",
       "  [66  ,    1]  =  1.0\n",
       "  [94  ,    1]  =  1.0\n",
       "  [96  ,    1]  =  1.0\n",
       "  [98  ,    1]  =  1.0\n",
       "  [109 ,    1]  =  1.0\n",
       "  ⋮\n",
       "  [92  ,   97]  =  1.0\n",
       "  [2732,   97]  =  1.0\n",
       "  [2752,   97]  =  1.0\n",
       "  [93  ,   98]  =  1.0\n",
       "  [2795,   98]  =  1.0\n",
       "  [94  ,   99]  =  1.0\n",
       "  [2776,   99]  =  1.0\n",
       "  [4287,   99]  =  1.0\n",
       "  [95  ,  100]  =  1.0\n",
       "  [2796,  100]  =  1.0\n",
       "  [2798,  102]  =  1.0"
      ]
     },
     "execution_count": 18,
     "metadata": {},
     "output_type": "execute_result"
    }
   ],
   "source": [
    "X, Y = read(\"data/rcv1/train_remap.txt\");\n",
    "K = size(Y, 1)\n",
    "adj_mat = read_cat_hier(\"data/rcv1/hr_remap.txt\", K)\n",
    "Y = Y'"
   ]
  },
  {
   "cell_type": "code",
   "execution_count": 19,
   "metadata": {
    "collapsed": false
   },
   "outputs": [
    {
     "name": "stdout",
     "output_type": "stream",
     "text": [
      "(5400, 47235)\n",
      "(5400, 102)\n"
     ]
    },
    {
     "data": {
      "text/plain": [
       "102"
      ]
     },
     "execution_count": 19,
     "metadata": {},
     "output_type": "execute_result"
    }
   ],
   "source": [
    "println(size(X))\n",
    "println(size(Y))\n",
    "N, D = size(X)\n",
    "K = size(Y,2)"
   ]
  },
  {
   "cell_type": "code",
   "execution_count": 36,
   "metadata": {
    "collapsed": false
   },
   "outputs": [
    {
     "name": "stdout",
     "output_type": "stream",
     "text": [
      "[1 0 0; 0 0 1; 0 1 0; 0 1 0]\n"
     ]
    },
    {
     "data": {
      "text/plain": [
       "3-element SparseVector{Int64,Int64} with 1 stored entry:\n",
       "  [3]  =  1"
      ]
     },
     "execution_count": 36,
     "metadata": {},
     "output_type": "execute_result"
    }
   ],
   "source": [
    "A = sparse([1;2;3;4],[1;3;2;2],[1;1;1;1])\n",
    "println(full(A))\n",
    "rows = rowvals(A)\n",
    "A1 = A[2,:]"
   ]
  },
  {
   "cell_type": "code",
   "execution_count": 40,
   "metadata": {
    "collapsed": false
   },
   "outputs": [
    {
     "data": {
      "text/plain": [
       "([3], [1])"
      ]
     },
     "execution_count": 40,
     "metadata": {},
     "output_type": "execute_result"
    }
   ],
   "source": [
    "findnz(A1)"
   ]
  },
  {
   "cell_type": "code",
   "execution_count": 13,
   "metadata": {
    "collapsed": false
   },
   "outputs": [
    {
     "data": {
      "text/plain": [
       "obj (generic function with 1 method)"
      ]
     },
     "execution_count": 13,
     "metadata": {},
     "output_type": "execute_result"
    }
   ],
   "source": [
    "include(\"code/misc.jl\")"
   ]
  },
  {
   "cell_type": "code",
   "execution_count": 14,
   "metadata": {
    "collapsed": false
   },
   "outputs": [
    {
     "data": {
      "text/plain": [
       "550800.0"
      ]
     },
     "execution_count": 14,
     "metadata": {},
     "output_type": "execute_result"
    }
   ],
   "source": [
    "W = zeros(D, K)\n",
    "C = 1\n",
    "lambda = 0.1\n",
    "obj(X,Y,W,adj_mat,C,lambda)"
   ]
  },
  {
   "cell_type": "code",
   "execution_count": 47,
   "metadata": {
    "collapsed": false
   },
   "outputs": [
    {
     "name": "stdout",
     "output_type": "stream",
     "text": [
      "get gradient complete\n",
      "obj complete\n",
      "prox complete\n",
      "prox complete\n",
      "prox complete\n",
      "prox complete\n",
      "prox complete\n",
      "stepsize: 0.0625\n",
      "iter 1 finished!\n",
      "get gradient complete\n",
      "obj complete\n",
      "prox complete\n",
      "prox complete\n",
      "prox complete\n",
      "prox complete\n",
      "prox complete\n",
      "prox complete\n",
      "stepsize: 0.03125\n",
      "iter 2 finished!\n",
      "get gradient complete\n",
      "obj complete\n",
      "prox complete\n",
      "prox complete\n",
      "prox complete\n",
      "prox complete\n",
      "prox complete\n",
      "prox complete\n",
      "prox complete\n",
      "stepsize: 0.015625\n",
      "iter 3 finished!\n",
      "get gradient complete\n",
      "obj complete\n",
      "prox complete\n",
      "prox complete\n",
      "prox complete\n",
      "prox complete\n",
      "prox complete\n",
      "prox complete\n",
      "stepsize: 0.03125\n",
      "iter 4 finished!\n",
      "get gradient complete\n",
      "obj complete\n",
      "prox complete\n",
      "prox complete\n",
      "prox complete\n",
      "prox complete\n",
      "prox complete\n",
      "prox complete\n",
      "prox complete\n",
      "stepsize: 0.015625\n",
      "iter 5 finished!\n",
      "get gradient complete\n",
      "obj complete\n",
      "prox complete\n",
      "prox complete\n",
      "prox complete\n",
      "prox complete\n"
     ]
    },
    {
     "ename": "LoadError",
     "evalue": "\u001b[91mInterruptException:\u001b[39m",
     "output_type": "error",
     "traceback": [
      "\u001b[91mInterruptException:\u001b[39m",
      "",
      "Stacktrace:",
      " [1] \u001b[1mmacro expansion\u001b[22m\u001b[22m at \u001b[1m./multidimensional.jl:511\u001b[22m\u001b[22m [inlined]",
      " [2] \u001b[1m_unsafe_getindex\u001b[22m\u001b[22m\u001b[1m(\u001b[22m\u001b[22m::IndexLinear, ::Array{Float64,2}, ::Base.Slice{Base.OneTo{Int64}}, ::Int64\u001b[1m)\u001b[22m\u001b[22m at \u001b[1m./multidimensional.jl:506\u001b[22m\u001b[22m",
      " [3] \u001b[1mmacro expansion\u001b[22m\u001b[22m at \u001b[1m./multidimensional.jl:495\u001b[22m\u001b[22m [inlined]",
      " [4] \u001b[1m_getindex\u001b[22m\u001b[22m at \u001b[1m./multidimensional.jl:491\u001b[22m\u001b[22m [inlined]",
      " [5] \u001b[1mgetindex\u001b[22m\u001b[22m at \u001b[1m./abstractarray.jl:883\u001b[22m\u001b[22m [inlined]",
      " [6] \u001b[1mobj\u001b[22m\u001b[22m\u001b[1m(\u001b[22m\u001b[22m::SparseMatrixCSC{Float64,Int64}, ::SparseMatrixCSC{Float64,Int64}, ::Array{Float64,2}, ::SparseMatrixCSC{Float64,Int64}, ::Int64, ::Float64\u001b[1m)\u001b[22m\u001b[22m at \u001b[1m/Users/fangh/academic/540proj/code/misc.jl:30\u001b[22m\u001b[22m",
      " [7] \u001b[1mproximal_gradient\u001b[22m\u001b[22m\u001b[1m(\u001b[22m\u001b[22m::SparseMatrixCSC{Float64,Int64}, ::SparseMatrixCSC{Float64,Int64}, ::SparseMatrixCSC{Float64,Int64}, ::Int64, ::Float64, ::Float64, ::Int64, ::Int64\u001b[1m)\u001b[22m\u001b[22m at \u001b[1m/Users/fangh/academic/540proj/code/prox_newton.jl:60\u001b[22m\u001b[22m",
      " [8] \u001b[1mproximal_gradient\u001b[22m\u001b[22m\u001b[1m(\u001b[22m\u001b[22m::SparseMatrixCSC{Float64,Int64}, ::SparseMatrixCSC{Float64,Int64}, ::SparseMatrixCSC{Float64,Int64}, ::Int64, ::Float64\u001b[1m)\u001b[22m\u001b[22m at \u001b[1m/Users/fangh/academic/540proj/code/prox_newton.jl:22\u001b[22m\u001b[22m",
      " [9] \u001b[1minclude_string\u001b[22m\u001b[22m\u001b[1m(\u001b[22m\u001b[22m::String, ::String\u001b[1m)\u001b[22m\u001b[22m at \u001b[1m./loading.jl:522\u001b[22m\u001b[22m"
     ]
    }
   ],
   "source": [
    "include(\"code/prox_newton.jl\")\n",
    "A = adj_mat\n",
    "W_res = proximal_gradient(X, Y, A, C, lambda)"
   ]
  },
  {
   "cell_type": "code",
   "execution_count": 20,
   "metadata": {
    "collapsed": false
   },
   "outputs": [
    {
     "data": {
      "text/plain": [
       "4-element Array{Int64,1}:\n",
       " 1\n",
       " 3\n",
       " 2\n",
       " 4"
      ]
     },
     "execution_count": 20,
     "metadata": {},
     "output_type": "execute_result"
    }
   ],
   "source": [
    "vec([1 2; 3 4])"
   ]
  },
  {
   "cell_type": "code",
   "execution_count": 54,
   "metadata": {
    "collapsed": false
   },
   "outputs": [
    {
     "data": {
      "text/plain": [
       "5-element Array{Int64,1}:\n",
       " 5\n",
       " 2\n",
       " 1\n",
       " 3\n",
       " 4"
      ]
     },
     "execution_count": 54,
     "metadata": {},
     "output_type": "execute_result"
    }
   ],
   "source": [
    "randperm(5)"
   ]
  },
  {
   "cell_type": "code",
   "execution_count": 75,
   "metadata": {
    "collapsed": false
   },
   "outputs": [
    {
     "name": "stdout",
     "output_type": "stream",
     "text": [
      "size of active set: 68885\n",
      "start coordinate descent!\n",
      "obj_old: 550800.000000, obj_new: 522986.639089 \n",
      "size of active set: 67096\n",
      "start coordinate descent!\n",
      "obj_old: 522986.639089, obj_new: 753853.124872 \n",
      "size of active set: 65792\n",
      "start coordinate descent!\n",
      "obj_old: 753853.124872, obj_new: 1089711.875474 \n",
      "size of active set: 66287\n",
      "start coordinate descent!\n"
     ]
    },
    {
     "ename": "LoadError",
     "evalue": "\u001b[91mInterruptException:\u001b[39m",
     "output_type": "error",
     "traceback": [
      "\u001b[91mInterruptException:\u001b[39m",
      "",
      "Stacktrace:",
      " [1] \u001b[1mproximal_newton\u001b[22m\u001b[22m\u001b[1m(\u001b[22m\u001b[22m::SparseMatrixCSC{Float64,Int64}, ::SparseMatrixCSC{Float64,Int64}, ::SparseMatrixCSC{Float64,Int64}, ::Int64, ::Float64, ::Float64, ::Float64, ::Int64\u001b[1m)\u001b[22m\u001b[22m at \u001b[1m/Users/fangh/academic/540proj/code/prox_newton.jl:94\u001b[22m\u001b[22m",
      " [2] \u001b[1mproximal_newton\u001b[22m\u001b[22m\u001b[1m(\u001b[22m\u001b[22m::SparseMatrixCSC{Float64,Int64}, ::SparseMatrixCSC{Float64,Int64}, ::SparseMatrixCSC{Float64,Int64}, ::Int64, ::Float64\u001b[1m)\u001b[22m\u001b[22m at \u001b[1m/Users/fangh/academic/540proj/code/prox_newton.jl:5\u001b[22m\u001b[22m",
      " [3] \u001b[1minclude_string\u001b[22m\u001b[22m\u001b[1m(\u001b[22m\u001b[22m::String, ::String\u001b[1m)\u001b[22m\u001b[22m at \u001b[1m./loading.jl:522\u001b[22m\u001b[22m"
     ]
    }
   ],
   "source": [
    "include(\"code/prox_newton.jl\")\n",
    "A = adj_mat\n",
    "W_res = proximal_newton(X, Y, A, C, lambda)"
   ]
  },
  {
   "cell_type": "code",
   "execution_count": null,
   "metadata": {
    "collapsed": true
   },
   "outputs": [],
   "source": []
  }
 ],
 "metadata": {
  "kernelspec": {
   "display_name": "Julia 0.6.2",
   "language": "julia",
   "name": "julia-0.6"
  },
  "language_info": {
   "file_extension": ".jl",
   "mimetype": "application/julia",
   "name": "julia",
   "version": "0.6.2"
  }
 },
 "nbformat": 4,
 "nbformat_minor": 1
}
